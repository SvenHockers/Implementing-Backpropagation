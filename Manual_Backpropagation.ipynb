{
 "cells": [
  {
   "cell_type": "markdown",
   "metadata": {},
   "source": [
    "# Manual Backpropagation"
   ]
  },
  {
   "cell_type": "code",
   "execution_count": null,
   "metadata": {},
   "outputs": [],
   "source": [
    "# Import required modules\n",
    "import numpy as np\n",
    "import matplotlib.pyplot as plt"
   ]
  },
  {
   "cell_type": "markdown",
   "metadata": {},
   "source": [
    "## Define a number of different activation functions"
   ]
  },
  {
   "cell_type": "code",
   "execution_count": null,
   "metadata": {},
   "outputs": [],
   "source": [
    "class SigmoidActivation:\n",
    "    @staticmethod\n",
    "    def forward(input) -> np.array:\n",
    "        ex = np.exp(input)\n",
    "        return ex / (ex + 1)\n",
    "    \n",
    "    @staticmethod\n",
    "    def backward(input) -> np.array:\n",
    "        sigmoid = SigmoidActivation.forward(input)\n",
    "        return sigmoid * (1 - sigmoid)\n",
    "    \n",
    "class TanhActivation:\n",
    "    @staticmethod\n",
    "    def forward(input) -> np.array:\n",
    "        ex = np.exp(input)\n",
    "        ex_min = np.exp(-1*input)\n",
    "        return (ex - ex_min) / (ex + ex_min)\n",
    "    \n",
    "    @staticmethod\n",
    "    def backward(input) -> np.array:\n",
    "        return None"
   ]
  },
  {
   "cell_type": "markdown",
   "metadata": {},
   "source": [
    "### Define some other functions which are handy"
   ]
  },
  {
   "cell_type": "code",
   "execution_count": null,
   "metadata": {},
   "outputs": [],
   "source": [
    "def softmax(x):\n",
    "    e_x = np.exp(x - np.max(x))\n",
    "    return e_x / e_x.sum()\n",
    "\n",
    "def checkActivation(activation_func) -> object:\n",
    "    if activation == \"sigmoid\":\n",
    "            activation = SigmoidActivation\n",
    "    elif activation == \"tanh\":\n",
    "        activation = TanhActivation\n",
    "    else:\n",
    "        raise AttributeError(\"Chosen activation function does not exist.\")\n",
    "    return activation"
   ]
  },
  {
   "cell_type": "markdown",
   "metadata": {},
   "source": [
    "### Implement the class for a layer\n",
    "Note a layer consists of a vector of `Nodes` which are represented by a `float` (i.e. weight of that specific node)"
   ]
  },
  {
   "cell_type": "code",
   "execution_count": null,
   "metadata": {},
   "outputs": [],
   "source": [
    "class layer:\n",
    "    def __init__(self, numberOfInputs: int, numberOfNodes: int):\n",
    "        self.weigths = np.random.rand(numberOfInputs, numberOfNodes)\n",
    "        self.bias = np.random.rand(numberOfNodes)\n",
    "\n",
    "    def getLayer(self):\n",
    "        return(self.weigths)\n",
    "    \n",
    "    def compute(self, inputs: np.array, activation=\"sigmoid\") -> np.array:\n",
    "        activationFunction = checkActivation(activation_func=activation)\n",
    "        return  activationFunction.forward(inputs) * self.weigths + self.bias \n"
   ]
  },
  {
   "cell_type": "markdown",
   "metadata": {},
   "source": [
    "### Implement the logic to setup a simple ANN"
   ]
  },
  {
   "cell_type": "code",
   "execution_count": null,
   "metadata": {},
   "outputs": [],
   "source": [
    "class FFN:\n",
    "    def __init__(self, dimentions: list[int], activation=\"sigmoid\", alpha=1):\n",
    "        if len(dimentions < 2):\n",
    "            raise AssertionError(\"Network must have at least two layers (input and output).\")\n",
    "        \n",
    "        self.activation = checkActivation(activation_func=activation)\n",
    "\n",
    "        self.learningRate = alpha\n",
    "        self.inputLayer = layer(dimentions[0], dimentions[0])\n",
    "        self.outputLayer = layer(dimentions[-2], dimentions[-1])\n",
    "\n",
    "        self.hidden_layers = [] \n",
    "        input_dim = dimentions[0]\n",
    "        for i in range(1, len(dimentions) - 1):\n",
    "            layer_dim = dimentions[i]\n",
    "            self.hidden_layers.append(layer(input_dim, layer_dim))\n",
    "            input_dim = layer_dim\n",
    "\n",
    "    def forward(self, input):\n",
    "        activation = self.activation.forward(input)\n",
    "        \n",
    "        output = self.inputLayer.compute(input, activation)\n",
    "        for hidden_layer in self.hidden_layers: \n",
    "            output = hidden_layer.compute(output, activation)\n",
    "        output = self.outputLayer.compute(output, activation)\n",
    "\n",
    "        return output   \n",
    "    \n",
    "    def backward(self, input, y_true):\n",
    "        activation = self.activation.forward(input)\n",
    "\n",
    "        store_impulse = [input]\n",
    "        current_output = input\n",
    "        \n",
    "        for layer in self.hidden_layers:\n",
    "            current_output = layer.compute(current_output, activation=activation)\n",
    "            store_impulse.append(current_output)\n",
    "        \n",
    "        y_pred = self.outputLayer.compute(current_output, activation=activation)\n",
    "        store_impulse.append(y_pred)\n",
    "\n",
    "        Error = y_pred - y_true\n",
    "        delta = Error * self.activation.backward(y_pred)\n",
    "\n",
    "        self.outputLayer.weigths -= self.learningRate * np.dot(store_impulse[-2].T, delta)\n",
    "        self.outputLayer.bias -= self.learningRate * np.sum(delta, axis=0)\n",
    "        \n",
    "        for i in reversed(range(len(self.hidden_layers))):\n",
    "            layer = self.hidden_layers[i]\n",
    "            activation_layer = store_impulse[i]\n",
    "\n",
    "            delta = np.dot(delta, layer.weigths.T) * self.activation.backward(activation_layer)\n",
    "            layer.weights -= self.learningRate * np.dot(activation_layer.T, delta)\n",
    "            layer.bias -= self.learningRate * np.sum(delta, axis=0)\n",
    "\n",
    "    # Note that currently I can only train the model on one example (this should be fixed in the future)\n",
    "    def train(self, input, y_true, itterations=1000, debug_mode=0, get_value=50):\n",
    "        prediction = []\n",
    "        loss = []\n",
    "        for i in range(itterations):\n",
    "            self.backward(input=input, y_true=y_true)\n",
    "\n",
    "            if i % get_value:\n",
    "                prediction.append(self.forward(input))\n",
    "                loss.append(self.forward(input) -  y_true)\n",
    "                print(f\"Training Itteration: {i}; Loss: {loss[-1]}\") \n",
    "\n",
    "        if debug_mode == 1 or debug_mode == 2:\n",
    "            plt.plot(range(itterations), loss)\n",
    "            plt.xlabel(\"Itterations\")\n",
    "            plt.ylabel(\"Loss\")\n",
    "            plt.title(\"Training Loss over Itterations\")\n",
    "            plt.grid()\n",
    "            plt.show()\n",
    "\n",
    "            if debug_mode == 2:\n",
    "                return prediction, loss        "
   ]
  },
  {
   "cell_type": "markdown",
   "metadata": {},
   "source": [
    "### Forward Propagation"
   ]
  },
  {
   "cell_type": "code",
   "execution_count": null,
   "metadata": {},
   "outputs": [],
   "source": [
    "# Input\n",
    "input_value = [0, 0, 0, 1, 0, 0, 0, 0]\n",
    "correct_output_value = input_value\n",
    "\n",
    "Network = FFN([8, 3, 8])\n",
    "Network.forward(input_value)\n"
   ]
  },
  {
   "cell_type": "markdown",
   "metadata": {},
   "source": [
    "### Backpropagation"
   ]
  }
 ],
 "metadata": {
  "kernelspec": {
   "display_name": "Python 3",
   "language": "python",
   "name": "python3"
  },
  "language_info": {
   "codemirror_mode": {
    "name": "ipython",
    "version": 3
   },
   "file_extension": ".py",
   "mimetype": "text/x-python",
   "name": "python",
   "nbconvert_exporter": "python",
   "pygments_lexer": "ipython3",
   "version": "3.11.10"
  }
 },
 "nbformat": 4,
 "nbformat_minor": 2
}
