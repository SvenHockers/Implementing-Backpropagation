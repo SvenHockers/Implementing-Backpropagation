{
 "cells": [
  {
   "cell_type": "markdown",
   "metadata": {},
   "source": [
    "# Manual Backpropagation"
   ]
  },
  {
   "cell_type": "code",
   "execution_count": 1,
   "metadata": {},
   "outputs": [],
   "source": [
    "# Import required modules\n",
    "import numpy as np\n"
   ]
  },
  {
   "cell_type": "markdown",
   "metadata": {},
   "source": [
    "### Implement the class for a node"
   ]
  },
  {
   "cell_type": "code",
   "execution_count": null,
   "metadata": {},
   "outputs": [],
   "source": [
    "class layer:\n",
    "    def __init__(self, numberOfInputs: int, numberOfNodes: int):\n",
    "        self.weigths = np.random.rand(numberOfInputs, numberOfNodes)\n",
    "        self.bias = np.random.rand(numberOfNodes)\n",
    "\n",
    "    def getLayer(self):\n",
    "        return(self.weigths)\n",
    "    \n",
    "    def compute(self, inputs: np.array) -> np.array:\n",
    "        return  inputs * self.weigths + self.bias \n",
    "    \n",
    "    def softmax(self) -> np.array:\n",
    "        return output"
   ]
  },
  {
   "cell_type": "markdown",
   "metadata": {},
   "source": [
    "### Implement the logic to setup a simple ANN"
   ]
  },
  {
   "cell_type": "code",
   "execution_count": null,
   "metadata": {},
   "outputs": [],
   "source": [
    "class ANN:\n",
    "    def __init__(self, numberOfLayers: int, inputVector: int, outputVector: int):\n",
    "        self.LayerInput = layer(1, inputVector)\n",
    "        self.LayerOutput = layer(1, outputVector)\n",
    "\n",
    "        numberOfHiddenLayer = numberOfLayers - 2 \n",
    "        for i = 1 : numberOfHiddenLayer"
   ]
  },
  {
   "cell_type": "code",
   "execution_count": 9,
   "metadata": {},
   "outputs": [
    {
     "name": "stdout",
     "output_type": "stream",
     "text": [
      "[[0.23446877 0.08482872 0.20630034 0.47906019 0.63395242 0.8306934 ]\n",
      " [0.99693206 0.49237252 0.28732987 0.04855673 0.94402079 0.91412825]\n",
      " [0.95481705 0.92610837 0.04597244 0.45385007 0.80668207 0.98560806]\n",
      " [0.86606076 0.14824707 0.53007661 0.11526339 0.03111949 0.66604593]\n",
      " [0.80594847 0.08659696 0.15277572 0.19461124 0.40795464 0.1803577 ]]\n"
     ]
    }
   ],
   "source": [
    "inputLayer = layer(numberOfInputs=1, numberOfNodes=8)\n",
    "hiddenLayer = layer(numberOfInputs=8, numberOfNodes=3)\n",
    "outputLayer = layer(numberOfInputs=3, numberOfNodes=8)\n"
   ]
  },
  {
   "cell_type": "code",
   "execution_count": null,
   "metadata": {},
   "outputs": [],
   "source": [
    "# Input\n",
    "input_value = [0, 0, 0, 1, 0, 0, 0, 0]\n",
    "correct_output_value = input_value"
   ]
  },
  {
   "cell_type": "markdown",
   "metadata": {},
   "source": []
  }
 ],
 "metadata": {
  "kernelspec": {
   "display_name": "Python 3",
   "language": "python",
   "name": "python3"
  },
  "language_info": {
   "codemirror_mode": {
    "name": "ipython",
    "version": 3
   },
   "file_extension": ".py",
   "mimetype": "text/x-python",
   "name": "python",
   "nbconvert_exporter": "python",
   "pygments_lexer": "ipython3",
   "version": "3.11.10"
  }
 },
 "nbformat": 4,
 "nbformat_minor": 2
}
