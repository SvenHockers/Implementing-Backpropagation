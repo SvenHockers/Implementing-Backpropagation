{
 "cells": [
  {
   "cell_type": "markdown",
   "metadata": {},
   "source": [
    "# Neural Network from the Ground-Up"
   ]
  },
  {
   "cell_type": "markdown",
   "metadata": {},
   "source": [
    "Init by importing `numpy` (this is mainly used) and `matplotlib` (only used to show the convergence). \n",
    "Note we make use of some `@staticmethods` which have been grouped by there activation function (e.g. Sigmoid, TANH), this way it allows for modular implementation of the activation function."
   ]
  },
  {
   "cell_type": "code",
   "execution_count": 6,
   "metadata": {},
   "outputs": [],
   "source": [
    "import numpy as np  # required for most computations\n",
    "import json         # Used to return the model params\n",
    "import matplotlib.pyplot as plt # Used to display the training loss / itterations\n",
    "import random       # Used to randomly move through the training set\n",
    "\n",
    "class SigmoidActivation:\n",
    "    def getName() -> str:\n",
    "        return \"Sigmoid\"\n",
    "\n",
    "    @staticmethod\n",
    "    def forward(input) -> np.array:\n",
    "        ex = np.exp(input)\n",
    "        return ex / (ex + 1)\n",
    "    \n",
    "    @staticmethod\n",
    "    def backward(input) -> np.array:\n",
    "        sigmoid = SigmoidActivation.forward(input)\n",
    "        return sigmoid * (1 - sigmoid)\n",
    "    \n",
    "class TanhActivation:\n",
    "    def getName() -> str:\n",
    "        return \"Tanh\"\n",
    "\n",
    "    @staticmethod\n",
    "    def forward(input) -> np.array:\n",
    "        ex = np.exp(input)\n",
    "        ex_min = np.exp(-1*input)\n",
    "        return 1 / (1 + np.exp(input))\n",
    "        # return (ex - ex_min) / (ex + ex_min)\n",
    "    \n",
    "    @staticmethod\n",
    "    def backward(input) -> np.array:\n",
    "        return None # not implemented yet\n",
    "    \n",
    "class ReLU:\n",
    "    def getName() -> str:\n",
    "        return \"ReLu\"\n",
    "        \n",
    "    @staticmethod\n",
    "    def forward(input) -> np.array:\n",
    "        return np.maximum(0, input)\n",
    "    \n",
    "    @staticmethod\n",
    "    def backward(input) -> np.array:\n",
    "        return np.where(input <= 0, 0, 1)\n",
    "\n",
    "def softmax(x: np.array) -> np.array:\n",
    "    return np.exp(x)/sum(np.exp(x))\n",
    "\n",
    "def argmax(x: np.array) -> np.array:\n",
    "    y = np.zeros_like(x)\n",
    "    y[np.argmax(x)] = 1\n",
    "    return y\n",
    "\n",
    "def calculateLoss(y_pred, y_true):\n",
    "    loss = (y_pred - y_true) ** 2\n",
    "    return np.mean(loss)\n",
    "\n",
    "# This function is used to check the activation function selected for the NN (if exists and if yes return the right object)\n",
    "def checkActivation(activation_func) -> object:\n",
    "    if activation_func == \"sigmoid\":\n",
    "            activation = SigmoidActivation\n",
    "    elif activation_func == \"tanh\":\n",
    "        activation = TanhActivation\n",
    "    elif activation_func == \"relu\":\n",
    "        activation = ReLU\n",
    "    else:\n",
    "        raise AttributeError(\"Chosen activation function does not exist.\")\n",
    "    return activation"
   ]
  },
  {
   "cell_type": "markdown",
   "metadata": {},
   "source": [
    "Here we define the `layer` class which is the most simple form of the Neural Network. In this case it has been chosen to vectorise each layer. So each node is a position an `ndarray` where the value is the weight of the node.\n",
    "\n",
    "Furthermore, the `getLayer` method has been implemented to return the weights of the layer (getter func) and the `compute` method does the operations to calculate the output of the layer given an input."
   ]
  },
  {
   "cell_type": "code",
   "execution_count": 7,
   "metadata": {},
   "outputs": [],
   "source": [
    "class layer:\n",
    "    def __init__(self, numberOfInputs: int, numberOfNodes: int):\n",
    "        self.weigths = np.random.rand(numberOfInputs, numberOfNodes)\n",
    "        self.bias = np.random.rand(numberOfNodes)\n",
    "\n",
    "    def getLayer(self):\n",
    "        return(self.weigths)\n",
    "    \n",
    "    def compute(self, inputs: np.array, activation: object) -> np.array:\n",
    "        W = np.dot(inputs, self.weigths) + self.bias\n",
    "        return  activation.forward(W)"
   ]
  },
  {
   "cell_type": "markdown",
   "metadata": {},
   "source": [
    "Below the `FFN` class (Feed Forward Network) has been defined. This is a rather complex class so I will break it down method by method. In general the class represents a simple neural nerwork as an `object`. This object holds all layers (which in turn hold als weights and biases) of the network AND the methods defined in the class can be used to do operations on the network.\n",
    "\n",
    "1. **init method** \n",
    "\n",
    "The init method is used to initialise a network. This is done by passing the dimentions of network where the position of the array corrosponds to a layer and the value corrosponds to the number of neurons in each layer (e.g. [3, 3, 1] -> 3 layers, where; layer 1 = 3 neurons; layer 2 = 3 neurons; layer 3 = 1 neuron). \n",
    "Additionally, activation function can be chosen (by default sigmoid) and an learning rate (alpha). \n",
    "\n",
    "2. **forward method**\n",
    "\n",
    "The forward method does a forward pass through the network given a valid input. This can be seen as the `.predict` method in the tensorflow lib. \n",
    "\n",
    "3. **backward method**\n",
    "\n",
    "The backward method does backprogagation of the network. \n",
    "The following algorithm has been implemented to tune the weights and biases. \n",
    "\n",
    "4. **train method**\n",
    "\n",
    "The train method is a wrapper of the backward method with some additional features. It uses the `backward method` to train the model in a _for-loop_ so that the model can be easly trained multiple itterations and an implementation which takes a set number of samples of the loss and prediction which is than displayed in a plot."
   ]
  },
  {
   "cell_type": "code",
   "execution_count": 8,
   "metadata": {},
   "outputs": [],
   "source": [
    "class FFN:\n",
    "    def __init__(self, dimensions: list[int], activation=\"sigmoid\", alpha=1) -> None:\n",
    "        if len(dimensions) < 2:\n",
    "            raise AssertionError(\"Network must have at least two layers (input and output).\")\n",
    "        \n",
    "        self.activation = checkActivation(activation_func=activation)\n",
    "        self.learningRate = alpha\n",
    "\n",
    "        self.layers = []\n",
    "        input_dim = dimensions[0]\n",
    "        for i in range(0, len(dimensions)):\n",
    "            layer_dim = dimensions[i]\n",
    "            self.layers.append(layer(input_dim, layer_dim))\n",
    "            input_dim = layer_dim\n",
    "\n",
    "    def displayModel(self) -> None:\n",
    "        json_obj = {\n",
    "            \"Number of Layers\" : len(self.layers),\n",
    "            \"Layers\" : []\n",
    "        }\n",
    "\n",
    "        i = 1\n",
    "        for layer in self.layers:\n",
    "            layer_data = {\n",
    "                \"Layer\" : i,\n",
    "                \"Number of Nodes\" : len(layer.weigths),\n",
    "                \"Weights\" : layer.weigths.tolist()\n",
    "            }\n",
    "            i += 1\n",
    "            json_obj[\"Layers\"].append(layer_data)\n",
    "\n",
    "        print(json.dumps(json_obj, indent=4))\n",
    "\n",
    "    def forward(self, input: list[float]) -> list[float]:\n",
    "        activation = input\n",
    "        for layer in self.layers:\n",
    "            activation = layer.compute(activation, self.activation)\n",
    "        return activation\n",
    "    \n",
    "    def predict(self, input: list[float]) -> list[float]:\n",
    "        activation = input\n",
    "        for layer in self.layers:\n",
    "            activation = layer.compute(activation, self.activation)\n",
    "        return argmax(softmax(activation))\n",
    "        \n",
    "    def backward(self, input: list[float], y_true: list[float]) -> None:\n",
    "        store_impulse = [input]\n",
    "        current_output = input\n",
    "\n",
    "        for layer in self.layers:\n",
    "            current_output = layer.compute(current_output, activation=self.activation)\n",
    "            store_impulse.append(np.array(current_output)) \n",
    "\n",
    "        y_pred = store_impulse[-1]\n",
    "        error = y_pred - y_true\n",
    "        delta = error * self.activation.backward(y_pred)\n",
    "\n",
    "        for i in reversed(range(len(self.layers))):\n",
    "            layer = self.layers[i]\n",
    "            activation_layer = store_impulse[i]\n",
    "\n",
    "            activation_layer = np.array(activation_layer).reshape(1, -1)\n",
    "            delta = delta.reshape(1, -1)\n",
    "\n",
    "\n",
    "            layer.weigths -= self.learningRate * np.dot(activation_layer.T, delta)\n",
    "            layer.bias -= self.learningRate * np.sum(delta, axis=0)\n",
    "\n",
    "            if i > 0:\n",
    "                delta = np.dot(delta, self.layers[i].weigths.T) * self.activation.backward(store_impulse[i])\n",
    "\n",
    "    def train(self, X: list[list[float]], y: list[list[float]], max_itterations=1000, plot_loss=True) -> None:\n",
    "        if len(X) != len(y):\n",
    "            raise ValueError(\"The length of X and y must be the same.\")\n",
    "        losses = []\n",
    "\n",
    "        for i in range(max_itterations):\n",
    "            iteration_loss = 0 \n",
    "            for _ in range(len(X)): \n",
    "                index = random.randint(0, len(X) - 1)\n",
    "                xSelected = X[index]\n",
    "                ySelected = y[index]\n",
    "\n",
    "                self.backward(xSelected, ySelected)\n",
    "\n",
    "                if plot_loss:\n",
    "                    yPredicted = self.forward(xSelected)\n",
    "                    example_loss = np.mean(yPredicted - ySelected)\n",
    "                    iteration_loss += example_loss\n",
    "\n",
    "            if plot_loss:\n",
    "                avg_loss = iteration_loss / len(X)\n",
    "                losses.append(avg_loss)\n",
    "\n",
    "        if plot_loss:\n",
    "            plt.plot(range(max_itterations), losses)\n",
    "            plt.xlabel(\"Iterations\")\n",
    "            plt.ylabel(\"Average Loss\")\n",
    "            plt.title(f\"Training Loss - {self.activation.getName()} Activation\")\n",
    "            plt.grid()\n",
    "            plt.show()\n"
   ]
  },
  {
   "cell_type": "code",
   "execution_count": 9,
   "metadata": {},
   "outputs": [],
   "source": [
    "xTrain =[[1, 0, 0, 0, 0, 0, 0, 0],\n",
    "        [0, 1, 0, 0, 0, 0, 0, 0], \n",
    "        [0, 0, 1, 0, 0, 0, 0, 0], \n",
    "        [0, 0, 0, 1, 0, 0, 0, 0], \n",
    "        [0, 0, 0, 0, 1, 0, 0, 0], \n",
    "        [0, 0, 0, 0, 0, 1, 0, 0], \n",
    "        [0, 0, 0, 0, 0, 0, 1, 0], \n",
    "        [0, 0, 0, 0, 0, 0, 0, 1]]\n",
    "\n",
    "yTrain =[[1, 0, 0, 0, 0, 0, 0, 0],\n",
    "        [0, 1, 0, 0, 0, 0, 0, 0], \n",
    "        [0, 0, 1, 0, 0, 0, 0, 0], \n",
    "        [0, 0, 0, 1, 0, 0, 0, 0], \n",
    "        [0, 0, 0, 0, 1, 0, 0, 0], \n",
    "        [0, 0, 0, 0, 0, 1, 0, 0], \n",
    "        [0, 0, 0, 0, 0, 0, 1, 0], \n",
    "        [0, 0, 0, 0, 0, 0, 0, 1]]"
   ]
  },
  {
   "cell_type": "code",
   "execution_count": 10,
   "metadata": {},
   "outputs": [
    {
     "data": {
      "image/png": "[encoded data removed]",
      "text/plain": [
       "<Figure size 640x480 with 1 Axes>"
      ]
     },
     "metadata": {},
     "output_type": "display_data"
    },
    {
     "ename": "TypeError",
     "evalue": "unsupported operand type(s) for *: 'float' and 'NoneType'",
     "output_type": "error",
     "traceback": [
      "\u001b[0;31m---------------------------------------------------------------------------\u001b[0m",
      "\u001b[0;31mTypeError\u001b[0m                                 Traceback (most recent call last)",
      "Cell \u001b[0;32mIn[10], line 7\u001b[0m\n\u001b[1;32m      5\u001b[0m \u001b[38;5;66;03m# Tanh\u001b[39;00m\n\u001b[1;32m      6\u001b[0m tanhModel \u001b[38;5;241m=\u001b[39m FFN([\u001b[38;5;241m8\u001b[39m, \u001b[38;5;241m3\u001b[39m, \u001b[38;5;241m8\u001b[39m], activation\u001b[38;5;241m=\u001b[39m\u001b[38;5;124m\"\u001b[39m\u001b[38;5;124mtanh\u001b[39m\u001b[38;5;124m\"\u001b[39m, alpha\u001b[38;5;241m=\u001b[39m\u001b[38;5;241m0.01\u001b[39m)\n\u001b[0;32m----> 7\u001b[0m \u001b[43mtanhModel\u001b[49m\u001b[38;5;241;43m.\u001b[39;49m\u001b[43mtrain\u001b[49m\u001b[43m(\u001b[49m\u001b[43mX\u001b[49m\u001b[38;5;241;43m=\u001b[39;49m\u001b[43mxTrain\u001b[49m\u001b[43m,\u001b[49m\u001b[43m \u001b[49m\u001b[43my\u001b[49m\u001b[38;5;241;43m=\u001b[39;49m\u001b[43myTrain\u001b[49m\u001b[43m,\u001b[49m\u001b[43m \u001b[49m\u001b[43mmax_itterations\u001b[49m\u001b[38;5;241;43m=\u001b[39;49m\u001b[38;5;241;43m250\u001b[39;49m\u001b[43m)\u001b[49m\n\u001b[1;32m      9\u001b[0m \u001b[38;5;66;03m# ReLu \u001b[39;00m\n\u001b[1;32m     10\u001b[0m reluModel \u001b[38;5;241m=\u001b[39m FFN([\u001b[38;5;241m8\u001b[39m, \u001b[38;5;241m3\u001b[39m, \u001b[38;5;241m8\u001b[39m], activation\u001b[38;5;241m=\u001b[39m\u001b[38;5;124m\"\u001b[39m\u001b[38;5;124mrelu\u001b[39m\u001b[38;5;124m\"\u001b[39m, alpha\u001b[38;5;241m=\u001b[39m\u001b[38;5;241m0.0001\u001b[39m)\n",
      "Cell \u001b[0;32mIn[8], line 84\u001b[0m, in \u001b[0;36mFFN.train\u001b[0;34m(self, X, y, max_itterations, plot_loss)\u001b[0m\n\u001b[1;32m     81\u001b[0m xSelected \u001b[38;5;241m=\u001b[39m X[index]\n\u001b[1;32m     82\u001b[0m ySelected \u001b[38;5;241m=\u001b[39m y[index]\n\u001b[0;32m---> 84\u001b[0m \u001b[38;5;28;43mself\u001b[39;49m\u001b[38;5;241;43m.\u001b[39;49m\u001b[43mbackward\u001b[49m\u001b[43m(\u001b[49m\u001b[43mxSelected\u001b[49m\u001b[43m,\u001b[49m\u001b[43m \u001b[49m\u001b[43mySelected\u001b[49m\u001b[43m)\u001b[49m\n\u001b[1;32m     86\u001b[0m \u001b[38;5;28;01mif\u001b[39;00m plot_loss:\n\u001b[1;32m     87\u001b[0m     yPredicted \u001b[38;5;241m=\u001b[39m \u001b[38;5;28mself\u001b[39m\u001b[38;5;241m.\u001b[39mforward(xSelected)\n",
      "Cell \u001b[0;32mIn[8], line 56\u001b[0m, in \u001b[0;36mFFN.backward\u001b[0;34m(self, input, y_true)\u001b[0m\n\u001b[1;32m     54\u001b[0m y_pred \u001b[38;5;241m=\u001b[39m store_impulse[\u001b[38;5;241m-\u001b[39m\u001b[38;5;241m1\u001b[39m]\n\u001b[1;32m     55\u001b[0m error \u001b[38;5;241m=\u001b[39m y_pred \u001b[38;5;241m-\u001b[39m y_true\n\u001b[0;32m---> 56\u001b[0m delta \u001b[38;5;241m=\u001b[39m \u001b[43merror\u001b[49m\u001b[43m \u001b[49m\u001b[38;5;241;43m*\u001b[39;49m\u001b[43m \u001b[49m\u001b[38;5;28;43mself\u001b[39;49m\u001b[38;5;241;43m.\u001b[39;49m\u001b[43mactivation\u001b[49m\u001b[38;5;241;43m.\u001b[39;49m\u001b[43mbackward\u001b[49m\u001b[43m(\u001b[49m\u001b[43my_pred\u001b[49m\u001b[43m)\u001b[49m\n\u001b[1;32m     58\u001b[0m \u001b[38;5;28;01mfor\u001b[39;00m i \u001b[38;5;129;01min\u001b[39;00m \u001b[38;5;28mreversed\u001b[39m(\u001b[38;5;28mrange\u001b[39m(\u001b[38;5;28mlen\u001b[39m(\u001b[38;5;28mself\u001b[39m\u001b[38;5;241m.\u001b[39mlayers))):\n\u001b[1;32m     59\u001b[0m     layer \u001b[38;5;241m=\u001b[39m \u001b[38;5;28mself\u001b[39m\u001b[38;5;241m.\u001b[39mlayers[i]\n",
      "\u001b[0;31mTypeError\u001b[0m: unsupported operand type(s) for *: 'float' and 'NoneType'"
     ]
    }
   ],
   "source": [
    "# sigmoid\n",
    "sigmoidModel = FFN([8, 3, 8], alpha=0.01)\n",
    "sigmoidModel.train(X=xTrain, y=yTrain, max_itterations=1000)\n",
    "\n",
    "# Tanh\n",
    "tanhModel = FFN([8, 3, 8], activation=\"tanh\", alpha=0.01)\n",
    "tanhModel.train(X=xTrain, y=yTrain, max_itterations=250)\n",
    "\n",
    "# ReLu \n",
    "reluModel = FFN([8, 3, 8], activation=\"relu\", alpha=0.0001)\n",
    "reluModel.train(xTrain, yTrain, max_itterations=500)"
   ]
  },
  {
   "cell_type": "code",
   "execution_count": null,
   "metadata": {},
   "outputs": [
    {
     "name": "stdout",
     "output_type": "stream",
     "text": [
      "\u001b[1m Model with Softmax Activation \u001b[0m\n",
      "Prediction: [0. 0. 0. 0. 0. 1. 0. 0.]\n",
      "True Value [0, 0, 0, 1, 0, 0, 0, 0]\n"
     ]
    }
   ],
   "source": [
    "xTest = [0, 0, 0, 1, 0, 0, 0, 0]\n",
    "\n",
    "Prediction = Network_.predict(xTest)\n",
    "\n",
    "print(\"\\033[1m Model with Softmax Activation \\033[0m\")\n",
    "print(f\"Prediction: {Prediction}\")\n",
    "print(f\"True Value {xTest}\")"
   ]
  },
  {
   "cell_type": "code",
   "execution_count": null,
   "metadata": {},
   "outputs": [],
   "source": []
  },
  {
   "cell_type": "code",
   "execution_count": null,
   "metadata": {},
   "outputs": [
    {
     "name": "stdout",
     "output_type": "stream",
     "text": [
      "\u001b[1m Model with ReLu Activation \u001b[0m\n",
      "Prediction: [0. 0. 0. 1. 0. 0. 0. 0.]\n",
      "True Value [0, 0, 0, 1, 0, 0, 0, 0]\n"
     ]
    }
   ],
   "source": [
    "Prediction = RELUActivation.predict(xTest)\n",
    "\n",
    "print(\"\\033[1m Model with ReLu Activation \\033[0m\")\n",
    "print(f\"Prediction: {Prediction}\")\n",
    "print(f\"True Value {xTest}\")"
   ]
  },
  {
   "cell_type": "code",
   "execution_count": null,
   "metadata": {},
   "outputs": [],
   "source": [
    "Network_.displayModel()"
   ]
  }
 ],
 "metadata": {
  "kernelspec": {
   "display_name": "Python 3",
   "language": "python",
   "name": "python3"
  },
  "language_info": {
   "codemirror_mode": {
    "name": "ipython",
    "version": 3
   },
   "file_extension": ".py",
   "mimetype": "text/x-python",
   "name": "python",
   "nbconvert_exporter": "python",
   "pygments_lexer": "ipython3",
   "version": "3.11.10"
  }
 },
 "nbformat": 4,
 "nbformat_minor": 2
}
