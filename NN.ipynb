{
 "cells": [
  {
   "cell_type": "markdown",
   "metadata": {},
   "source": [
    "# Simple feed forward Neural Network"
   ]
  },
  {
   "cell_type": "markdown",
   "metadata": {},
   "source": [
    "Init by importing `numpy` (this is mainly used) and `matplotlib` (only used to show the convergence). \n",
    "Note we make use of some `@staticmethods` which have been grouped by there activation function (e.g. Sigmoid, TANH), this way it allows for modular implementation of the activation function."
   ]
  },
  {
   "cell_type": "code",
   "execution_count": 1,
   "metadata": {},
   "outputs": [],
   "source": [
    "import numpy as np\n",
    "import matplotlib.pyplot as plt\n",
    "\n",
    "class SigmoidActivation:\n",
    "    @staticmethod\n",
    "    def forward(input) -> np.array:\n",
    "        ex = np.exp(input)\n",
    "        return ex / (ex + 1)\n",
    "    \n",
    "    @staticmethod\n",
    "    def backward(input) -> np.array:\n",
    "        sigmoid = SigmoidActivation.forward(input)\n",
    "        return sigmoid * (1 - sigmoid)\n",
    "    \n",
    "class TanhActivation:\n",
    "    @staticmethod\n",
    "    def forward(input) -> np.array:\n",
    "        ex = np.exp(input)\n",
    "        ex_min = np.exp(-1*input)\n",
    "        return (ex - ex_min) / (ex + ex_min)\n",
    "    \n",
    "    @staticmethod\n",
    "    def backward(input) -> np.array:\n",
    "        return None # not implemented yet\n",
    "    \n",
    "def softmax(x):\n",
    "    e_x = np.exp(x - np.max(x))\n",
    "    return e_x / e_x.sum()\n",
    "\n",
    "# This function is used to check the activation function selected for the NN (if exists and if yes return the right object)\n",
    "def checkActivation(activation_func) -> object:\n",
    "    if activation_func == \"sigmoid\":\n",
    "            activation = SigmoidActivation\n",
    "    elif activation_func == \"tanh\":\n",
    "        activation = TanhActivation\n",
    "    else:\n",
    "        raise AttributeError(\"Chosen activation function does not exist.\")\n",
    "    return activation"
   ]
  },
  {
   "cell_type": "markdown",
   "metadata": {},
   "source": [
    "Here we define the `layer` class which is the most simple form of the Neural Network. In this case it has been chosen to vectorise each layer. So each node is a position an `ndarray` where the value is the weight of the node.\n",
    "\n",
    "Furthermore, the `getLayer` method has been implemented to return the weights of the layer (getter func) and the `compute` method does the operations to calculate the output of the layer given an input."
   ]
  },
  {
   "cell_type": "code",
   "execution_count": 2,
   "metadata": {},
   "outputs": [],
   "source": [
    "class layer:\n",
    "    def __init__(self, numberOfInputs: int, numberOfNodes: int):\n",
    "        self.weigths = np.random.rand(numberOfInputs, numberOfNodes)\n",
    "        self.bias = np.random.rand(numberOfNodes)\n",
    "\n",
    "    def getLayer(self):\n",
    "        return(self.weigths)\n",
    "    \n",
    "    def compute(self, inputs: np.array, activation: object) -> np.array:\n",
    "        W = np.dot(inputs, self.weigths) + self.bias\n",
    "        return  activation.forward(W)"
   ]
  },
  {
   "cell_type": "markdown",
   "metadata": {},
   "source": [
    "Below the `FFN` class (Feed Forward Network) has been defined. This is a rather complex class so I will break it down method by method. In general the class represents a simple neural nerwork as an `object`. This object holds all layers (which in turn hold als weights and biases) of the network AND the methods defined in the class can be used to do operations on the network.\n",
    "\n",
    "1. **init method** \n",
    "\n",
    "The init method is used to initialise a network. This is done by passing the dimentions of network where the position of the array corrosponds to a layer and the value corrosponds to the number of neurons in each layer (e.g. [3, 3, 1] -> 3 layers, where; layer 1 = 3 neurons; layer 2 = 3 neurons; layer 3 = 1 neuron). \n",
    "Additionally, activation function can be chosen (by default sigmoid) and an learning rate (alpha). \n",
    "\n",
    "2. **forward method**\n",
    "\n",
    "The forward method does a forward pass through the network given a valid input. This can be seen as the `.fit` method in the tensorflow lib. \n",
    "\n",
    "3. **backward method**\n",
    "\n",
    "The backlward method does backprogagation of the network. \n",
    "**TODO** Write how this is being done!\n",
    "\n",
    "4. **train method**\n",
    "\n",
    "The train method is a wrapper of the backward method with some additional features. It uses the `backward method` to train the model in a _for-loop_ so that the model can be easly trained multiple itterations and an implementation which takes a set number of samples of the loss and prediction which is than displayed in a plot."
   ]
  },
  {
   "cell_type": "code",
   "execution_count": 21,
   "metadata": {},
   "outputs": [],
   "source": [
    "class FFN:\n",
    "    def __init__(self, dimensions: list[int], activation=\"sigmoid\", alpha=1) -> None:\n",
    "        if len(dimensions) < 2:\n",
    "            raise AssertionError(\"Network must have at least two layers (input and output).\")\n",
    "        \n",
    "        self.activation = checkActivation(activation_func=activation)\n",
    "        self.learningRate = alpha\n",
    "\n",
    "        self.layers = []\n",
    "        input_dim = dimensions[0]\n",
    "        for i in range(1, len(dimensions)):\n",
    "            layer_dim = dimensions[i]\n",
    "            self.layers.append(layer(input_dim, layer_dim))\n",
    "            input_dim = layer_dim\n",
    "\n",
    "    def forward(self, input: list[float]) -> list[float]:\n",
    "        activation = input\n",
    "        for layer in self.layers:\n",
    "            activation = layer.compute(activation, self.activation)\n",
    "        return activation\n",
    "        \n",
    "    def backward(self, input: list[float], y_true: list[float]) -> None:\n",
    "        store_impulse = [input]\n",
    "        current_output = input\n",
    "\n",
    "        for layer in self.layers:\n",
    "            current_output = layer.compute(current_output, activation=self.activation)\n",
    "            store_impulse.append(np.array(current_output)) \n",
    "\n",
    "        y_pred = store_impulse[-1]\n",
    "        error = y_pred - y_true\n",
    "        delta = error * self.activation.backward(y_pred)\n",
    "\n",
    "        for i in reversed(range(len(self.layers))):\n",
    "            layer = self.layers[i]\n",
    "            activation_layer = store_impulse[i]\n",
    "\n",
    "            activation_layer = np.array(activation_layer).reshape(1, -1)\n",
    "            delta = delta.reshape(1, -1)\n",
    "\n",
    "\n",
    "            layer.weigths -= self.learningRate * np.dot(activation_layer.T, delta)\n",
    "            layer.bias -= self.learningRate * np.sum(delta, axis=0)\n",
    "\n",
    "            if i > 0:\n",
    "                delta = np.dot(delta, layer.weigths.T) * self.activation.backward(activation_layer)\n",
    "\n",
    "    def train(self, X: list[float], y: list[float], max_itteratios=1000, graph_points=100) -> None:\n",
    "        prediction = []\n",
    "        loss = []\n",
    "        for i in range(max_itteratios):\n",
    "            self.backward(input=X, y_true=y)\n",
    "\n",
    "            if i % (max_itteratios // graph_points) == 0:\n",
    "                prediction.append(self.forward(X))\n",
    "                loss.append(self.forward(X) -  y)\n",
    "                #print(f\"Training Itteration: {i}; Loss: {loss[-1]}\") \n",
    "\n",
    "        plt.plot(list(range(0, max_itteratios, max_itteratios // graph_points)), np.mean(loss, axis=1))\n",
    "        plt.xlabel(\"Itterations\")\n",
    "        plt.ylabel(\"Loss\")\n",
    "        plt.title(\"Training Loss over Itterations\")\n",
    "        plt.grid()\n",
    "        plt.show()    \n",
    "\n",
    "        #return prediction, loss"
   ]
  },
  {
   "cell_type": "code",
   "execution_count": 40,
   "metadata": {},
   "outputs": [
    {
     "data": {
      "image/png": "[encoded data removed]",
      "text/plain": [
       "<Figure size 640x480 with 1 Axes>"
      ]
     },
     "metadata": {},
     "output_type": "display_data"
    }
   ],
   "source": [
    "input_value = [0, 0, 0, 1, 0, 0, 0, 0]\n",
    "correct_output_value = input_value\n",
    "\n",
    "Network = FFN([8, 3, 8], alpha=0.1)\n",
    "Network.train(X = input_value, y = correct_output_value, max_itteratios=1000, graph_points=100)"
   ]
  },
  {
   "cell_type": "code",
   "execution_count": 41,
   "metadata": {},
   "outputs": [
    {
     "name": "stdout",
     "output_type": "stream",
     "text": [
      "Y_true: [0, 0, 0, 1, 0, 0, 0, 0] \n",
      "Y_pred: [0.0129889  0.01338458 0.01447685 0.98788904 0.01413709 0.01469445\n",
      " 0.01435038 0.01404402]\n"
     ]
    }
   ],
   "source": [
    "y_pred = Network.forward(input_value)\n",
    "\n",
    "print(f\"Y_true: {correct_output_value} \\nY_pred: {y_pred}\")"
   ]
  }
 ],
 "metadata": {
  "kernelspec": {
   "display_name": "Python 3",
   "language": "python",
   "name": "python3"
  },
  "language_info": {
   "codemirror_mode": {
    "name": "ipython",
    "version": 3
   },
   "file_extension": ".py",
   "mimetype": "text/x-python",
   "name": "python",
   "nbconvert_exporter": "python",
   "pygments_lexer": "ipython3",
   "version": "3.11.10"
  }
 },
 "nbformat": 4,
 "nbformat_minor": 2
}
